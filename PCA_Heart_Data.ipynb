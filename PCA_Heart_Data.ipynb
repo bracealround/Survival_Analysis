{
 "cells": [
  {
   "cell_type": "markdown",
   "metadata": {
    "colab_type": "text",
    "id": "gJEDpKNhPtqA"
   },
   "source": [
    "## 1. Import Libraries"
   ]
  },
  {
   "cell_type": "code",
   "execution_count": 1,
   "metadata": {
    "colab": {},
    "colab_type": "code",
    "id": "t5r1K8BjP0W4"
   },
   "outputs": [
    {
     "name": "stderr",
     "output_type": "stream",
     "text": [
      "C:\\Users\\MM COMPUTER\\anaconda3\\lib\\site-packages\\numpy\\_distributor_init.py:30: UserWarning: loaded more than 1 DLL from .libs:\n",
      "C:\\Users\\MM COMPUTER\\anaconda3\\lib\\site-packages\\numpy\\.libs\\libopenblas.EL2C6PLE4ZYW3ECEVIV3OXXGRN2NRFM2.gfortran-win_amd64.dll\n",
      "C:\\Users\\MM COMPUTER\\anaconda3\\lib\\site-packages\\numpy\\.libs\\libopenblas.XWYDX2IKJW2NMTWSFYNGFUWKQU3LYTCZ.gfortran-win_amd64.dll\n",
      "  warnings.warn(\"loaded more than 1 DLL from .libs:\"\n"
     ]
    }
   ],
   "source": [
    "import pandas as pd\n",
    "import matplotlib.pyplot as plt\n",
    "from sklearn.preprocessing import StandardScaler"
   ]
  },
  {
   "cell_type": "markdown",
   "metadata": {
    "colab_type": "text",
    "id": "LftrxNVkQwiC"
   },
   "source": [
    "## 2. import and standardise data\n",
    "We use iris dataset, it's having four features and one traget column\n",
    "\n",
    "As PCA affected by scale of the data. We can use scale function and standardise the actual values"
   ]
  },
  {
   "cell_type": "code",
   "execution_count": 2,
   "metadata": {
    "colab": {},
    "colab_type": "code",
    "id": "_E6DUwpLQH13"
   },
   "outputs": [],
   "source": [
    "url = \"ctgan_result_oversampling_final.csv\"\n",
    "# load dataset into Pandas DataFrame\n",
    "df = pd.read_csv(url)\n",
    "column = df.columns\n",
    "feature = column"
   ]
  },
  {
   "cell_type": "code",
   "execution_count": 3,
   "metadata": {
    "colab": {
     "base_uri": "https://localhost:8080/",
     "height": 195
    },
    "colab_type": "code",
    "id": "gyWusxHuQNOY",
    "outputId": "121a9f90-bee8-42f1-ef5b-898df7efc8e0"
   },
   "outputs": [
    {
     "data": {
      "text/html": [
       "<div>\n",
       "<style scoped>\n",
       "    .dataframe tbody tr th:only-of-type {\n",
       "        vertical-align: middle;\n",
       "    }\n",
       "\n",
       "    .dataframe tbody tr th {\n",
       "        vertical-align: top;\n",
       "    }\n",
       "\n",
       "    .dataframe thead th {\n",
       "        text-align: right;\n",
       "    }\n",
       "</style>\n",
       "<table border=\"1\" class=\"dataframe\">\n",
       "  <thead>\n",
       "    <tr style=\"text-align: right;\">\n",
       "      <th></th>\n",
       "      <th>age</th>\n",
       "      <th>anaemia</th>\n",
       "      <th>creatinine_phosphokinase</th>\n",
       "      <th>diabetes</th>\n",
       "      <th>ejection_fraction</th>\n",
       "      <th>high_blood_pressure</th>\n",
       "      <th>platelets</th>\n",
       "      <th>serum_creatinine</th>\n",
       "      <th>serum_sodium</th>\n",
       "      <th>sex</th>\n",
       "      <th>smoking</th>\n",
       "      <th>time</th>\n",
       "      <th>DEATH_EVENT</th>\n",
       "    </tr>\n",
       "  </thead>\n",
       "  <tbody>\n",
       "    <tr>\n",
       "      <th>0</th>\n",
       "      <td>75</td>\n",
       "      <td>0</td>\n",
       "      <td>582</td>\n",
       "      <td>0</td>\n",
       "      <td>20</td>\n",
       "      <td>1</td>\n",
       "      <td>265000</td>\n",
       "      <td>1.9</td>\n",
       "      <td>130</td>\n",
       "      <td>1</td>\n",
       "      <td>0</td>\n",
       "      <td>4</td>\n",
       "      <td>1</td>\n",
       "    </tr>\n",
       "    <tr>\n",
       "      <th>1</th>\n",
       "      <td>55</td>\n",
       "      <td>0</td>\n",
       "      <td>7861</td>\n",
       "      <td>0</td>\n",
       "      <td>38</td>\n",
       "      <td>0</td>\n",
       "      <td>263358</td>\n",
       "      <td>1.1</td>\n",
       "      <td>136</td>\n",
       "      <td>1</td>\n",
       "      <td>0</td>\n",
       "      <td>6</td>\n",
       "      <td>1</td>\n",
       "    </tr>\n",
       "    <tr>\n",
       "      <th>2</th>\n",
       "      <td>65</td>\n",
       "      <td>0</td>\n",
       "      <td>146</td>\n",
       "      <td>0</td>\n",
       "      <td>20</td>\n",
       "      <td>0</td>\n",
       "      <td>162000</td>\n",
       "      <td>1.3</td>\n",
       "      <td>129</td>\n",
       "      <td>1</td>\n",
       "      <td>1</td>\n",
       "      <td>7</td>\n",
       "      <td>1</td>\n",
       "    </tr>\n",
       "    <tr>\n",
       "      <th>3</th>\n",
       "      <td>50</td>\n",
       "      <td>1</td>\n",
       "      <td>111</td>\n",
       "      <td>0</td>\n",
       "      <td>20</td>\n",
       "      <td>0</td>\n",
       "      <td>210000</td>\n",
       "      <td>1.9</td>\n",
       "      <td>137</td>\n",
       "      <td>1</td>\n",
       "      <td>0</td>\n",
       "      <td>7</td>\n",
       "      <td>1</td>\n",
       "    </tr>\n",
       "    <tr>\n",
       "      <th>4</th>\n",
       "      <td>65</td>\n",
       "      <td>1</td>\n",
       "      <td>160</td>\n",
       "      <td>1</td>\n",
       "      <td>20</td>\n",
       "      <td>0</td>\n",
       "      <td>327000</td>\n",
       "      <td>2.7</td>\n",
       "      <td>116</td>\n",
       "      <td>0</td>\n",
       "      <td>0</td>\n",
       "      <td>8</td>\n",
       "      <td>1</td>\n",
       "    </tr>\n",
       "  </tbody>\n",
       "</table>\n",
       "</div>"
      ],
      "text/plain": [
       "   age  anaemia  creatinine_phosphokinase  diabetes  ejection_fraction  \\\n",
       "0   75        0                       582         0                 20   \n",
       "1   55        0                      7861         0                 38   \n",
       "2   65        0                       146         0                 20   \n",
       "3   50        1                       111         0                 20   \n",
       "4   65        1                       160         1                 20   \n",
       "\n",
       "   high_blood_pressure  platelets  serum_creatinine  serum_sodium  sex  \\\n",
       "0                    1     265000               1.9           130    1   \n",
       "1                    0     263358               1.1           136    1   \n",
       "2                    0     162000               1.3           129    1   \n",
       "3                    0     210000               1.9           137    1   \n",
       "4                    0     327000               2.7           116    0   \n",
       "\n",
       "   smoking  time  DEATH_EVENT  \n",
       "0        0     4            1  \n",
       "1        0     6            1  \n",
       "2        1     7            1  \n",
       "3        0     7            1  \n",
       "4        0     8            1  "
      ]
     },
     "execution_count": 3,
     "metadata": {},
     "output_type": "execute_result"
    }
   ],
   "source": [
    "#df.head()\n",
    "#above_35 = titanic[titanic[\"Age\"] > 35]\n",
    "Label_1 = df[df[\"DEATH_EVENT\"]==1]\n",
    "Label_1.head()"
   ]
  },
  {
   "cell_type": "code",
   "execution_count": 4,
   "metadata": {
    "colab": {},
    "colab_type": "code",
    "id": "FRexEUGVQXud"
   },
   "outputs": [],
   "source": [
    "#feature = ['sepal length', 'sepal width', 'petal length', 'petal width']\n",
    "\n",
    "# separating features\n",
    "x = df.loc[:,feature]\n",
    "\n",
    "#separating target\n",
    "y = df.loc[:,'DEATH_EVENT']\n",
    "\n",
    "#Standardising features\n",
    "trans_x = StandardScaler().fit_transform(x)"
   ]
  },
  {
   "cell_type": "code",
   "execution_count": 5,
   "metadata": {},
   "outputs": [
    {
     "data": {
      "text/plain": [
       "array([[ 1.02762303, -0.88800127,  0.07081192, ..., -0.70972086,\n",
       "        -1.71824271,  1.        ],\n",
       "       [-0.5542346 , -0.88800127,  8.42284892, ..., -0.70972086,\n",
       "        -1.69247177,  1.        ],\n",
       "       [ 0.23669421, -0.88800127, -0.42946121, ...,  1.40900465,\n",
       "        -1.6795863 ,  1.        ],\n",
       "       ...,\n",
       "       [-0.71242036,  1.12612452, -0.45699918, ..., -0.70972086,\n",
       "        -0.84203065,  1.        ],\n",
       "       [-0.39604884, -0.88800127, -0.54305534, ..., -0.70972086,\n",
       "         0.70422593,  1.        ],\n",
       "       [-0.31695596,  1.12612452, -0.17129273, ...,  1.40900465,\n",
       "         1.00059177,  1.        ]])"
      ]
     },
     "execution_count": 5,
     "metadata": {},
     "output_type": "execute_result"
    }
   ],
   "source": [
    "trans_x"
   ]
  },
  {
   "cell_type": "code",
   "execution_count": 6,
   "metadata": {},
   "outputs": [],
   "source": [
    "from sklearn.decomposition import PCA\n",
    "\n",
    "pca = PCA(n_components=10)\n",
    "\n",
    "pct = pca.fit_transform(trans_x)\n",
    "\n",
    "principal_df = pd.DataFrame(pct,columns=\n",
    "                ['test1','test2','test3','test4','test5','test6','test7','test8','test9','test10'])\n",
    "finaldf= pd.concat([principal_df,df[['DEATH_EVENT']]],axis=1)"
   ]
  },
  {
   "cell_type": "code",
   "execution_count": 7,
   "metadata": {},
   "outputs": [
    {
     "data": {
      "text/html": [
       "<div>\n",
       "<style scoped>\n",
       "    .dataframe tbody tr th:only-of-type {\n",
       "        vertical-align: middle;\n",
       "    }\n",
       "\n",
       "    .dataframe tbody tr th {\n",
       "        vertical-align: top;\n",
       "    }\n",
       "\n",
       "    .dataframe thead th {\n",
       "        text-align: right;\n",
       "    }\n",
       "</style>\n",
       "<table border=\"1\" class=\"dataframe\">\n",
       "  <thead>\n",
       "    <tr style=\"text-align: right;\">\n",
       "      <th></th>\n",
       "      <th>test1</th>\n",
       "      <th>test2</th>\n",
       "      <th>test3</th>\n",
       "      <th>test4</th>\n",
       "      <th>test5</th>\n",
       "      <th>test6</th>\n",
       "      <th>test7</th>\n",
       "      <th>test8</th>\n",
       "      <th>test9</th>\n",
       "      <th>test10</th>\n",
       "      <th>DEATH_EVENT</th>\n",
       "    </tr>\n",
       "  </thead>\n",
       "  <tbody>\n",
       "    <tr>\n",
       "      <th>0</th>\n",
       "      <td>1.965001</td>\n",
       "      <td>0.028018</td>\n",
       "      <td>-1.183901</td>\n",
       "      <td>2.075203</td>\n",
       "      <td>-0.341062</td>\n",
       "      <td>-0.336792</td>\n",
       "      <td>0.915761</td>\n",
       "      <td>-0.827387</td>\n",
       "      <td>-0.800121</td>\n",
       "      <td>-0.522894</td>\n",
       "      <td>1</td>\n",
       "    </tr>\n",
       "    <tr>\n",
       "      <th>1</th>\n",
       "      <td>-0.242487</td>\n",
       "      <td>2.168414</td>\n",
       "      <td>-0.540738</td>\n",
       "      <td>5.018108</td>\n",
       "      <td>-0.204147</td>\n",
       "      <td>5.674869</td>\n",
       "      <td>-2.477709</td>\n",
       "      <td>1.740557</td>\n",
       "      <td>-0.592802</td>\n",
       "      <td>0.876971</td>\n",
       "      <td>1</td>\n",
       "    </tr>\n",
       "    <tr>\n",
       "      <th>2</th>\n",
       "      <td>1.908063</td>\n",
       "      <td>1.696604</td>\n",
       "      <td>-0.313260</td>\n",
       "      <td>1.140921</td>\n",
       "      <td>-0.930951</td>\n",
       "      <td>-0.928141</td>\n",
       "      <td>-0.079519</td>\n",
       "      <td>-0.609740</td>\n",
       "      <td>0.356615</td>\n",
       "      <td>-1.784120</td>\n",
       "      <td>1</td>\n",
       "    </tr>\n",
       "    <tr>\n",
       "      <th>3</th>\n",
       "      <td>1.006931</td>\n",
       "      <td>-0.179857</td>\n",
       "      <td>-0.929562</td>\n",
       "      <td>0.474427</td>\n",
       "      <td>-1.620494</td>\n",
       "      <td>-0.622526</td>\n",
       "      <td>-1.832925</td>\n",
       "      <td>-0.358808</td>\n",
       "      <td>0.254107</td>\n",
       "      <td>-0.982890</td>\n",
       "      <td>1</td>\n",
       "    </tr>\n",
       "    <tr>\n",
       "      <th>4</th>\n",
       "      <td>2.678880</td>\n",
       "      <td>-1.897386</td>\n",
       "      <td>1.670062</td>\n",
       "      <td>1.763089</td>\n",
       "      <td>-0.108091</td>\n",
       "      <td>-2.156882</td>\n",
       "      <td>-1.319048</td>\n",
       "      <td>-0.381338</td>\n",
       "      <td>-0.563644</td>\n",
       "      <td>-0.371098</td>\n",
       "      <td>1</td>\n",
       "    </tr>\n",
       "  </tbody>\n",
       "</table>\n",
       "</div>"
      ],
      "text/plain": [
       "      test1     test2     test3     test4     test5     test6     test7  \\\n",
       "0  1.965001  0.028018 -1.183901  2.075203 -0.341062 -0.336792  0.915761   \n",
       "1 -0.242487  2.168414 -0.540738  5.018108 -0.204147  5.674869 -2.477709   \n",
       "2  1.908063  1.696604 -0.313260  1.140921 -0.930951 -0.928141 -0.079519   \n",
       "3  1.006931 -0.179857 -0.929562  0.474427 -1.620494 -0.622526 -1.832925   \n",
       "4  2.678880 -1.897386  1.670062  1.763089 -0.108091 -2.156882 -1.319048   \n",
       "\n",
       "      test8     test9    test10  DEATH_EVENT  \n",
       "0 -0.827387 -0.800121 -0.522894            1  \n",
       "1  1.740557 -0.592802  0.876971            1  \n",
       "2 -0.609740  0.356615 -1.784120            1  \n",
       "3 -0.358808  0.254107 -0.982890            1  \n",
       "4 -0.381338 -0.563644 -0.371098            1  "
      ]
     },
     "execution_count": 7,
     "metadata": {},
     "output_type": "execute_result"
    }
   ],
   "source": [
    "finaldf.to_csv(\"Reduced_ctgan_result_oversampling_final_Ten_Col.csv\",index=False)\n",
    "finaldf.head()"
   ]
  },
  {
   "cell_type": "code",
   "execution_count": null,
   "metadata": {
    "colab": {},
    "colab_type": "code",
    "id": "O4FFW9xHU3vz"
   },
   "outputs": [],
   "source": []
  }
 ],
 "metadata": {
  "colab": {
   "collapsed_sections": [],
   "name": "11. PCA.ipynb",
   "provenance": []
  },
  "kernelspec": {
   "display_name": "Python 3 (ipykernel)",
   "language": "python",
   "name": "python3"
  },
  "language_info": {
   "codemirror_mode": {
    "name": "ipython",
    "version": 3
   },
   "file_extension": ".py",
   "mimetype": "text/x-python",
   "name": "python",
   "nbconvert_exporter": "python",
   "pygments_lexer": "ipython3",
   "version": "3.8.11"
  }
 },
 "nbformat": 4,
 "nbformat_minor": 1
}
