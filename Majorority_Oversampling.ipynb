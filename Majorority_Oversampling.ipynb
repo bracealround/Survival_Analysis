{
  "nbformat": 4,
  "nbformat_minor": 0,
  "metadata": {
    "colab": {
      "provenance": []
    },
    "kernelspec": {
      "name": "python3",
      "display_name": "Python 3"
    },
    "language_info": {
      "name": "python"
    },
    "accelerator": "GPU",
    "gpuClass": "standard"
  },
  "cells": [
    {
      "cell_type": "code",
      "execution_count": null,
      "metadata": {
        "id": "eSPz_WviygDr"
      },
      "outputs": [],
      "source": [
        "import pandas as pd\n",
        "df = pd.read_csv('/content/ctgan_result_oversampling_3.csv')"
      ]
    },
    {
      "cell_type": "code",
      "source": [
        "from sklearn.neighbors import KNeighborsClassifier\n",
        "from sklearn.neural_network import MLPClassifier\n",
        "from sklearn.svm import SVC\n",
        "from sklearn.preprocessing import StandardScaler\n",
        "from sklearn.pipeline import make_pipeline\n",
        "from sklearn.linear_model import LogisticRegression\n",
        "from sklearn.tree import DecisionTreeClassifier\n",
        "from sklearn.ensemble import RandomForestClassifier\n",
        "from sklearn.naive_bayes import GaussianNB\n",
        "from sklearn.metrics import accuracy_score,confusion_matrix,classification_report\n",
        "from xgboost import XGBClassifier\n",
        "from sklearn.ensemble import GradientBoostingClassifier\n",
        "from sklearn.ensemble import AdaBoostClassifier\n",
        "from sklearn.ensemble import ExtraTreesClassifier"
      ],
      "metadata": {
        "id": "Nj4OQrWl0xi7"
      },
      "execution_count": null,
      "outputs": []
    },
    {
      "cell_type": "code",
      "source": [
        "X = df.loc[:, df.columns !=  'DEATH_EVENT']\n",
        "Y = df['DEATH_EVENT']"
      ],
      "metadata": {
        "id": "YrjS6Kle2AM7"
      },
      "execution_count": null,
      "outputs": []
    },
    {
      "cell_type": "code",
      "source": [
        "from sklearn.model_selection import train_test_split\n",
        "X_train, X_test, Y_train, Y_test = train_test_split(X,Y,test_size=0.2,random_state=0)"
      ],
      "metadata": {
        "id": "mGV-wBcc1xMf"
      },
      "execution_count": null,
      "outputs": []
    },
    {
      "cell_type": "code",
      "source": [
        "print(len(X_test))"
      ],
      "metadata": {
        "colab": {
          "base_uri": "https://localhost:8080/"
        },
        "id": "NLQNWRXi2acy",
        "outputId": "1928a8ad-18b0-4b98-87a6-32bcd0de99aa"
      },
      "execution_count": null,
      "outputs": [
        {
          "output_type": "stream",
          "name": "stdout",
          "text": [
            "82\n"
          ]
        }
      ]
    },
    {
      "cell_type": "code",
      "source": [
        "all_model_score_cum_sum = [0] * len(X_test)\n",
        "# This function calculates majority voting from the classifiers\n",
        "def compute_score(model, X_train,y_train, X_test):\n",
        "  # for col in X_test.columns:\n",
        "  #   if col not in X_train.columns:\n",
        "  #     test.drop(col, axis=1, inplace=True)\n",
        "\n",
        "  model.fit(X_train, y_train)\n",
        "  y_pred = model.predict(X_test)\n",
        "  for i in range(0,len(all_model_score_cum_sum),1):\n",
        "    all_model_score_cum_sum[i] += y_pred[i]"
      ],
      "metadata": {
        "id": "cHRXPOgK0xv0"
      },
      "execution_count": null,
      "outputs": []
    },
    {
      "cell_type": "code",
      "source": [
        "model_xgb = XGBClassifier(use_label_encoder=False, eval_metric='mlogloss')\n",
        "model_mlp = MLPClassifier(random_state=22, max_iter=300)\n",
        "model_rf = RandomForestClassifier(max_depth=8, random_state=22)\n",
        "model_dt = DecisionTreeClassifier(random_state=22, max_depth=3)\n",
        "model_lr = LogisticRegression(random_state= 22)\n",
        "model_svm = make_pipeline(StandardScaler(), SVC(gamma='auto'))\n",
        "model_knn = KNeighborsClassifier(n_neighbors=47)\n",
        "model_ada = AdaBoostClassifier(n_estimators=100, random_state=0)\n",
        "model_gb = GradientBoostingClassifier(n_estimators=100, random_state=0)\n",
        "model_et = ExtraTreesClassifier(n_estimators=100, random_state=0)"
      ],
      "metadata": {
        "id": "1zLBiUZ40xx6"
      },
      "execution_count": null,
      "outputs": []
    },
    {
      "cell_type": "code",
      "source": [
        "model_array = [model_xgb, model_ada, model_rf, model_gb, model_et]\n",
        "for model in model_array:\n",
        "  compute_score(model, X_train, Y_train, X_test)"
      ],
      "metadata": {
        "id": "ZhdyxL8l1AiH"
      },
      "execution_count": null,
      "outputs": []
    },
    {
      "cell_type": "code",
      "source": [
        "all_model_score_cum_sum = [0 if x <=2 else 1 for x in all_model_score_cum_sum]\n",
        "print(sum(all_model_score_cum_sum))\n",
        "print(classification_report(Y_test,all_model_score_cum_sum, digits=4))"
      ],
      "metadata": {
        "colab": {
          "base_uri": "https://localhost:8080/"
        },
        "id": "DGu5SfAX38ie",
        "outputId": "457359df-5b85-4f80-fd4c-cbe7479683bf"
      },
      "execution_count": null,
      "outputs": [
        {
          "output_type": "stream",
          "name": "stdout",
          "text": [
            "48\n",
            "              precision    recall  f1-score   support\n",
            "\n",
            "           0     0.8824    0.8571    0.8696        35\n",
            "           1     0.8958    0.9149    0.9053        47\n",
            "\n",
            "    accuracy                         0.8902        82\n",
            "   macro avg     0.8891    0.8860    0.8874        82\n",
            "weighted avg     0.8901    0.8902    0.8900        82\n",
            "\n"
          ]
        }
      ]
    },
    {
      "cell_type": "markdown",
      "source": [
        "## Majority Voting with certain features"
      ],
      "metadata": {
        "id": "T3Md3fKMf6P-"
      }
    },
    {
      "cell_type": "code",
      "source": [
        "# X = df.loc[:, df.columns !=  'DEATH_EVENT']\n",
        "# X = X[['anaemia', 'diabetes', 'ejection_fraction', 'high_blood_pressure', 'serum_creatinine', 'serum_sodium', 'sex', 'time', 'creatinine_phosphokinase']]\n",
        "# Y = df['DEATH_EVENT']\n",
        "X = df.loc[:, df.columns !=  'DEATH_EVENT']\n",
        "X = X[['ejection_fraction','serum_creatinine','time']]\n",
        "Y = df['DEATH_EVENT']"
      ],
      "metadata": {
        "id": "QRu9_LkHlz6i"
      },
      "execution_count": null,
      "outputs": []
    },
    {
      "cell_type": "code",
      "source": [
        "from sklearn.model_selection import train_test_split\n",
        "X_train, X_test, Y_train, Y_test = train_test_split(X,Y,test_size=0.2,random_state=0)"
      ],
      "metadata": {
        "id": "dCXajJJ3lz6r"
      },
      "execution_count": null,
      "outputs": []
    },
    {
      "cell_type": "code",
      "source": [
        "\n",
        "print(len(X_test))"
      ],
      "metadata": {
        "colab": {
          "base_uri": "https://localhost:8080/"
        },
        "outputId": "33b56a12-7de6-441f-a1be-b2a35981639d",
        "id": "j9P8PKZplz6s"
      },
      "execution_count": null,
      "outputs": [
        {
          "output_type": "stream",
          "name": "stdout",
          "text": [
            "82\n"
          ]
        }
      ]
    },
    {
      "cell_type": "code",
      "source": [
        "all_model_score_cum_sum = [0] * len(X_test)\n",
        "# This function calculates majority voting from the classifiers\n",
        "def compute_score(model, X_train,y_train, X_test):\n",
        "  # for col in X_test.columns:\n",
        "  #   if col not in X_train.columns:\n",
        "  #     test.drop(col, axis=1, inplace=True)\n",
        "\n",
        "  model.fit(X_train, y_train)\n",
        "  y_pred = model.predict(X_test)\n",
        "  for i in range(0,len(all_model_score_cum_sum),1):\n",
        "    all_model_score_cum_sum[i] += y_pred[i]"
      ],
      "metadata": {
        "id": "FspYJJZHlz6s"
      },
      "execution_count": null,
      "outputs": []
    },
    {
      "cell_type": "code",
      "source": [
        "# model_xgb = XGBClassifier(use_label_encoder=False, eval_metric='mlogloss')\n",
        "# model_mlp = MLPClassifier(random_state=22, max_iter=300)\n",
        "# model_rf = RandomForestClassifier(max_depth=10, random_state=22)\n",
        "# model_dt = DecisionTreeClassifier(random_state=22, max_depth=3)\n",
        "# model_lr = LogisticRegression(random_state= 22)\n",
        "# model_svm = make_pipeline(StandardScaler(), SVC(gamma='auto'))\n",
        "# model_knn = KNeighborsClassifier(n_neighbors=31)"
      ],
      "metadata": {
        "id": "INQpfFrWlz6s"
      },
      "execution_count": null,
      "outputs": []
    },
    {
      "cell_type": "code",
      "source": [
        "all_model_score_cum_sum = [0] * len(X_test)\n",
        "model_array = [model_xgb, model_ada, model_rf, model_gb, model_et,model_dt,model_lr]\n",
        "for model in model_array:\n",
        "  compute_score(model, X_train, Y_train, X_test)"
      ],
      "metadata": {
        "id": "lDxLxyyOlz6s"
      },
      "execution_count": null,
      "outputs": []
    },
    {
      "cell_type": "code",
      "source": [
        "\n",
        "model_array = [model_xgb, model_gb, model_et, ]\n",
        "for model in model_array:\n",
        "  compute_score(model, X_train, Y_train, X_test)"
      ],
      "metadata": {
        "id": "bMu8d_H1vJdd"
      },
      "execution_count": null,
      "outputs": []
    },
    {
      "cell_type": "code",
      "source": [
        "all_model_score_cum_sum = [0 if x <=1 else 1 for x in all_model_score_cum_sum]\n",
        "print(sum(all_model_score_cum_sum))\n",
        "print(classification_report(Y_test,all_model_score_cum_sum,digits=4))"
      ],
      "metadata": {
        "colab": {
          "base_uri": "https://localhost:8080/"
        },
        "outputId": "928d927a-685d-416d-cf0d-67680cdea09e",
        "id": "7JmrtAdDlz6s"
      },
      "execution_count": null,
      "outputs": [
        {
          "output_type": "stream",
          "name": "stdout",
          "text": [
            "41\n",
            "              precision    recall  f1-score   support\n",
            "\n",
            "           0     0.7805    0.9143    0.8421        35\n",
            "           1     0.9268    0.8085    0.8636        47\n",
            "\n",
            "    accuracy                         0.8537        82\n",
            "   macro avg     0.8537    0.8614    0.8529        82\n",
            "weighted avg     0.8644    0.8537    0.8544        82\n",
            "\n"
          ]
        }
      ]
    },
    {
      "cell_type": "code",
      "source": [],
      "metadata": {
        "id": "mjOdkqnVKKir"
      },
      "execution_count": null,
      "outputs": []
    },
    {
      "cell_type": "code",
      "source": [],
      "metadata": {
        "id": "F4JujFUCImYt"
      },
      "execution_count": null,
      "outputs": []
    }
  ]
}