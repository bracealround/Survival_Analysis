{
 "cells": [
  {
   "cell_type": "code",
   "execution_count": 1,
   "metadata": {},
   "outputs": [
    {
     "name": "stderr",
     "output_type": "stream",
     "text": [
      "C:\\Users\\MM COMPUTER\\anaconda3\\lib\\site-packages\\numpy\\_distributor_init.py:30: UserWarning: loaded more than 1 DLL from .libs:\n",
      "C:\\Users\\MM COMPUTER\\anaconda3\\lib\\site-packages\\numpy\\.libs\\libopenblas.EL2C6PLE4ZYW3ECEVIV3OXXGRN2NRFM2.gfortran-win_amd64.dll\n",
      "C:\\Users\\MM COMPUTER\\anaconda3\\lib\\site-packages\\numpy\\.libs\\libopenblas.XWYDX2IKJW2NMTWSFYNGFUWKQU3LYTCZ.gfortran-win_amd64.dll\n",
      "  warnings.warn(\"loaded more than 1 DLL from .libs:\"\n"
     ]
    }
   ],
   "source": [
    "import pandas as pd\n",
    "import numpy as np"
   ]
  },
  {
   "cell_type": "code",
   "execution_count": 2,
   "metadata": {},
   "outputs": [],
   "source": [
    "df = pd.read_csv('Reduced_ctgan_result_oversampling_final_Ten_Col.csv')"
   ]
  },
  {
   "cell_type": "code",
   "execution_count": 3,
   "metadata": {},
   "outputs": [],
   "source": [
    "#features = ['age', 'anaemia', 'creatinine_phosphokinase', 'diabetes', 'ejection_fraction', 'high_blood_pressure', 'platelets', \n",
    "#'serum_creatinine', 'serum_sodium', 'sex', 'smoking', 'time']\n",
    "#85%, #features = ['anaemia', 'creatinine_phosphokinase', 'diabetes', 'ejection_fraction', 'serum_creatinine', 'time']\n",
    "#features = [ 'ejection_fraction', 'serum_creatinine', 'serum_sodium', 'age']\n",
    "features = ['test1','test2','test3','test4','test5','test6','test7','test8','test9','test10']\n",
    "#features = ['age', 'anaemia', 'creatinine_phosphokinase', 'diabetes', 'ejection_fraction', 'high_blood_pressure', 'platelets', \n",
    "#            'platelets','serum_creatinine', 'serum_sodium', 'sex', 'smoking', 'time']\n",
    "X = df[features]\n",
    "Y = df.DEATH_EVENT"
   ]
  },
  {
   "cell_type": "code",
   "execution_count": 4,
   "metadata": {
    "scrolled": true
   },
   "outputs": [
    {
     "name": "stdout",
     "output_type": "stream",
     "text": [
      "<class 'pandas.core.frame.DataFrame'>\n",
      "RangeIndex: 406 entries, 0 to 405\n",
      "Data columns (total 10 columns):\n",
      " #   Column  Non-Null Count  Dtype  \n",
      "---  ------  --------------  -----  \n",
      " 0   test1   406 non-null    float64\n",
      " 1   test2   406 non-null    float64\n",
      " 2   test3   406 non-null    float64\n",
      " 3   test4   406 non-null    float64\n",
      " 4   test5   406 non-null    float64\n",
      " 5   test6   406 non-null    float64\n",
      " 6   test7   406 non-null    float64\n",
      " 7   test8   406 non-null    float64\n",
      " 8   test9   406 non-null    float64\n",
      " 9   test10  406 non-null    float64\n",
      "dtypes: float64(10)\n",
      "memory usage: 31.8 KB\n"
     ]
    }
   ],
   "source": [
    "X.info()\n"
   ]
  },
  {
   "cell_type": "code",
   "execution_count": 5,
   "metadata": {},
   "outputs": [
    {
     "name": "stdout",
     "output_type": "stream",
     "text": [
      "Num of rows in the training dataset 304\n",
      "Num of rows in the test dataset 102\n"
     ]
    }
   ],
   "source": [
    "from sklearn.model_selection import train_test_split\n",
    "train_X, val_X, train_y, val_y = train_test_split(X, Y, random_state = 0)\n",
    "from sklearn.metrics import mean_absolute_error\n",
    "from sklearn.metrics import accuracy_score\n",
    "from sklearn.metrics import classification_report\n",
    "#Number of rows in the training dataset\n",
    "print(\"Num of rows in the training dataset\",len(train_X))\n",
    "#Number of rows in the test dataset\n",
    "print(\"Num of rows in the test dataset\",len(val_X))"
   ]
  },
  {
   "cell_type": "code",
   "execution_count": 6,
   "metadata": {},
   "outputs": [
    {
     "name": "stdout",
     "output_type": "stream",
     "text": [
      "0.9215686274509803\n",
      "              precision    recall  f1-score   support\n",
      "\n",
      "           0       0.89      0.93      0.91        43\n",
      "           1       0.95      0.92      0.93        59\n",
      "\n",
      "    accuracy                           0.92       102\n",
      "   macro avg       0.92      0.92      0.92       102\n",
      "weighted avg       0.92      0.92      0.92       102\n",
      "\n"
     ]
    }
   ],
   "source": [
    "from imblearn.ensemble import BalancedRandomForestClassifier\n",
    "brf = BalancedRandomForestClassifier(n_estimators=75, random_state=0)\n",
    "brf.fit(train_X, train_y)\n",
    "pred_y = brf.predict(val_X)\n",
    "accuracy = accuracy_score(val_y, pred_y.round())\n",
    "print(accuracy)\n",
    "print(classification_report(val_y, pred_y.round()))"
   ]
  },
  {
   "cell_type": "code",
   "execution_count": 7,
   "metadata": {},
   "outputs": [
    {
     "name": "stdout",
     "output_type": "stream",
     "text": [
      "0.9215686274509803\n",
      "              precision    recall  f1-score   support\n",
      "\n",
      "           0       0.89      0.93      0.91        43\n",
      "           1       0.95      0.92      0.93        59\n",
      "\n",
      "    accuracy                           0.92       102\n",
      "   macro avg       0.92      0.92      0.92       102\n",
      "weighted avg       0.92      0.92      0.92       102\n",
      "\n"
     ]
    }
   ],
   "source": [
    "# Instantiate random forest and train on new features\n",
    "from sklearn.ensemble import RandomForestRegressor\n",
    "rfModel = RandomForestRegressor(max_depth=22, n_estimators = 1000, random_state = 100)\n",
    "rfModel.fit(train_X, train_y)\n",
    "pred_y = rfModel.predict(val_X)\n",
    "accuracy = accuracy_score(val_y, pred_y.round())\n",
    "print(accuracy)\n",
    "print(classification_report(val_y, pred_y.round()))"
   ]
  },
  {
   "cell_type": "code",
   "execution_count": 8,
   "metadata": {},
   "outputs": [
    {
     "data": {
      "text/plain": [
       "0.9313725490196079"
      ]
     },
     "execution_count": 8,
     "metadata": {},
     "output_type": "execute_result"
    }
   ],
   "source": [
    "#Random Forest\n",
    "from sklearn.ensemble import RandomForestClassifier  \n",
    "#rfModel = RandomForestClassifier( n_estimators = 100, random_state = 40)\n",
    "rfModel = RandomForestClassifier( n_estimators = 75, random_state = 0)\n",
    "rfModel.fit(train_X, train_y)\n",
    "pred_y = rfModel.predict(val_X)\n",
    "accuracy = accuracy_score(val_y, pred_y)\n",
    "accuracy"
   ]
  },
  {
   "cell_type": "code",
   "execution_count": 9,
   "metadata": {},
   "outputs": [
    {
     "name": "stdout",
     "output_type": "stream",
     "text": [
      "              precision    recall  f1-score   support\n",
      "\n",
      "           0       0.89      0.95      0.92        43\n",
      "           1       0.96      0.92      0.94        59\n",
      "\n",
      "    accuracy                           0.93       102\n",
      "   macro avg       0.93      0.93      0.93       102\n",
      "weighted avg       0.93      0.93      0.93       102\n",
      "\n"
     ]
    }
   ],
   "source": [
    "from sklearn.metrics import classification_report\n",
    "print(classification_report(val_y, pred_y))"
   ]
  },
  {
   "cell_type": "code",
   "execution_count": 10,
   "metadata": {},
   "outputs": [
    {
     "name": "stdout",
     "output_type": "stream",
     "text": [
      "Accuracy:  0.9313725490196079\n"
     ]
    }
   ],
   "source": [
    "from sklearn.metrics import accuracy_score\n",
    "print(\"Accuracy: \", accuracy_score(val_y, pred_y))"
   ]
  },
  {
   "cell_type": "code",
   "execution_count": 11,
   "metadata": {},
   "outputs": [
    {
     "name": "stdout",
     "output_type": "stream",
     "text": [
      "Mean Absolute Error:  0.06862745098039216\n"
     ]
    }
   ],
   "source": [
    "print(\"Mean Absolute Error: \", mean_absolute_error(val_y, pred_y)) #max_features=3 for higher accuracy"
   ]
  },
  {
   "cell_type": "code",
   "execution_count": 12,
   "metadata": {},
   "outputs": [
    {
     "name": "stdout",
     "output_type": "stream",
     "text": [
      "F1 Score:  0.9391304347826087\n"
     ]
    }
   ],
   "source": [
    "from sklearn.metrics import f1_score\n",
    "\n",
    "score = f1_score(pred_y, val_y)\n",
    "print(\"F1 Score: \",score)"
   ]
  },
  {
   "cell_type": "code",
   "execution_count": 13,
   "metadata": {},
   "outputs": [
    {
     "name": "stdout",
     "output_type": "stream",
     "text": [
      "Confusion Matrix:\n",
      "     0   1\n",
      "0  41   2\n",
      "1   5  54\n"
     ]
    }
   ],
   "source": [
    "from sklearn.metrics import confusion_matrix\n",
    "conmat = confusion_matrix(val_y, pred_y)\n",
    "val = np.mat(conmat) \n",
    "\n",
    "classnames = list(set(train_y))\n",
    "df_cm = pd.DataFrame(\n",
    "        val, index=classnames, columns=classnames, \n",
    "    )\n",
    "print(\"Confusion Matrix:\\n\", df_cm)"
   ]
  },
  {
   "cell_type": "code",
   "execution_count": 14,
   "metadata": {},
   "outputs": [
    {
     "name": "stdout",
     "output_type": "stream",
     "text": [
      "True Positive: 54\n",
      "True Negative: 41\n",
      "False Positive: 2\n",
      "False Negative: 5\n"
     ]
    }
   ],
   "source": [
    "TP = conmat[1, 1]\n",
    "TN = conmat[0, 0]\n",
    "FP = conmat[0, 1]\n",
    "FN = conmat[1, 0]\n",
    "\n",
    "print(\"True Positive:\",TP) \n",
    "print(\"True Negative:\",TN)\n",
    "print(\"False Positive:\",FP) \n",
    "print(\"False Negative:\",FN) "
   ]
  },
  {
   "cell_type": "code",
   "execution_count": 15,
   "metadata": {},
   "outputs": [
    {
     "name": "stdout",
     "output_type": "stream",
     "text": [
      "0.9313725490196079\n",
      "0.9313725490196079\n"
     ]
    }
   ],
   "source": [
    "# Metrics computed from a confusion matrix\n",
    "#Classification Accuracy: Overall, how often is the classifier correct?\n",
    "from sklearn.metrics import accuracy_score\n",
    "# use float to perform true division, not integer division\n",
    "print((TP + TN) / float(TP + TN + FP + FN))\n",
    "print(accuracy_score(val_y, pred_y))"
   ]
  },
  {
   "cell_type": "code",
   "execution_count": 16,
   "metadata": {},
   "outputs": [
    {
     "name": "stdout",
     "output_type": "stream",
     "text": [
      "0.06862745098039216\n",
      "0.06862745098039214\n"
     ]
    }
   ],
   "source": [
    "#Classification Error: Overall, how often is the classifier incorrect?\n",
    "from sklearn import metrics\n",
    "#Also known as \"Misclassification Rate\"\n",
    "classification_error = (FP + FN) / float(TP + TN + FP + FN)\n",
    "\n",
    "print(classification_error)\n",
    "print(1 - metrics.accuracy_score(val_y, pred_y))"
   ]
  },
  {
   "cell_type": "code",
   "execution_count": 17,
   "metadata": {},
   "outputs": [
    {
     "name": "stdout",
     "output_type": "stream",
     "text": [
      "0.9152542372881356\n",
      "0.9152542372881356\n"
     ]
    }
   ],
   "source": [
    "#Sensitivity: When the actual value is positive, how often is the prediction correct?\n",
    "#Something we want to maximize\n",
    "#How \"sensitive\" is the classifier to detecting positive instances?\n",
    "#Also known as \"True Positive Rate\" or \"Recall\"\n",
    "#TP / all positive\n",
    "#all positive = TP + FN\n",
    "sensitivity = TP / float(FN + TP)\n",
    "\n",
    "print(sensitivity)\n",
    "print(metrics.recall_score(val_y, pred_y))"
   ]
  },
  {
   "cell_type": "code",
   "execution_count": 18,
   "metadata": {},
   "outputs": [
    {
     "name": "stdout",
     "output_type": "stream",
     "text": [
      "0.9534883720930233\n"
     ]
    }
   ],
   "source": [
    "#Specificity: When the actual value is negative, how often is the prediction correct?\n",
    "\n",
    "#Something we want to maximize\n",
    "#How \"specific\" (or \"selective\") is the classifier in predicting positive instances?\n",
    "#TN / all negative\n",
    "#all negative = TN + FP\n",
    "\n",
    "specificity = TN / (TN + FP)\n",
    "\n",
    "print(specificity)"
   ]
  },
  {
   "cell_type": "code",
   "execution_count": 19,
   "metadata": {},
   "outputs": [
    {
     "name": "stdout",
     "output_type": "stream",
     "text": [
      "0.046511627906976744\n",
      "0.046511627906976716\n"
     ]
    }
   ],
   "source": [
    "#False Positive Rate: When the actual value is negative, how often is the prediction incorrect?\n",
    "\n",
    "false_positive_rate = FP / float(TN + FP)\n",
    "\n",
    "print(false_positive_rate)\n",
    "print(1 - specificity)"
   ]
  },
  {
   "cell_type": "code",
   "execution_count": 20,
   "metadata": {},
   "outputs": [
    {
     "name": "stdout",
     "output_type": "stream",
     "text": [
      "0.9642857142857143\n",
      "0.9642857142857143\n"
     ]
    }
   ],
   "source": [
    "#Precision: When a positive value is predicted, how often is the prediction correct?\n",
    "\n",
    "#How \"precise\" is the classifier when predicting positive instances?\n",
    "precision = TP / float(TP + FP)\n",
    "\n",
    "print(precision)\n",
    "print(metrics.precision_score(val_y, pred_y))"
   ]
  },
  {
   "cell_type": "code",
   "execution_count": 21,
   "metadata": {},
   "outputs": [
    {
     "name": "stdout",
     "output_type": "stream",
     "text": [
      "0.9391304347826087 0.9855657274611181\n"
     ]
    }
   ],
   "source": [
    "# Precision Recall AUC Score\n",
    "#The Area Under the Curve (AUC) is the measure of the ability of a classifier \n",
    "#to distinguish between classes and is used as a summary of the ROC curve. \n",
    "#The higher the AUC, the better the performance of the model at distinguishing between the positive and negative classes\n",
    "# The value is needed for a imbalanced dataset or imbalanced classes in binary\n",
    "from sklearn.metrics import precision_recall_curve\n",
    "from sklearn.metrics import f1_score\n",
    "from sklearn.metrics import auc\n",
    "\n",
    "# predict probabilities\n",
    "y_test_proba = rfModel.predict_proba(val_X)\n",
    "# keep probabilities for the positive outcome only\n",
    "y_test_proba = y_test_proba[:, 1]\n",
    "\n",
    "rf_precision, rf_recall, _ = precision_recall_curve(val_y, y_test_proba)\n",
    "rf_f1, rf_auc = f1_score(val_y, pred_y), auc(rf_recall, rf_precision)\n",
    "print(rf_f1, rf_auc)"
   ]
  },
  {
   "cell_type": "code",
   "execution_count": 22,
   "metadata": {},
   "outputs": [
    {
     "data": {
      "image/png": "[encoded data removed]",
      "text/plain": [
       "<Figure size 432x288 with 2 Axes>"
      ]
     },
     "metadata": {
      "needs_background": "light"
     },
     "output_type": "display_data"
    }
   ],
   "source": [
    "import matplotlib.pyplot as plt\n",
    "\n",
    "import seaborn as sns\n",
    "\n",
    "plt.figure()\n",
    "\n",
    "heatmap = sns.heatmap(df_cm, annot=True, cmap=\"Blues\")\n",
    "\n",
    "heatmap.yaxis.set_ticklabels(heatmap.yaxis.get_ticklabels(), rotation=0, ha='right')\n",
    "\n",
    "heatmap.xaxis.set_ticklabels(heatmap.xaxis.get_ticklabels(), rotation=45, ha='right')\n",
    "\n",
    "plt.ylabel('True label')\n",
    "\n",
    "plt.xlabel('Predicted label')\n",
    "\n",
    "plt.title('Confusion Matrix of Random Forest Classifier:')\n",
    "\n",
    "plt.show()  "
   ]
  },
  {
   "cell_type": "code",
   "execution_count": 23,
   "metadata": {},
   "outputs": [
    {
     "name": "stderr",
     "output_type": "stream",
     "text": [
      "C:\\Users\\MM COMPUTER\\anaconda3\\lib\\site-packages\\sklearn\\base.py:450: UserWarning: X does not have valid feature names, but RandomForestClassifier was fitted with feature names\n",
      "  warnings.warn(\n"
     ]
    },
    {
     "data": {
      "image/png": "[encoded data removed]",
      "text/plain": [
       "<Figure size 432x288 with 1 Axes>"
      ]
     },
     "metadata": {},
     "output_type": "display_data"
    }
   ],
   "source": [
    "#ROC Curve and AUROC\n",
    "#The AUROC is a way to measure how robust your model is across decision thresholds. \n",
    "#It is the area under the plot of the true positive rate versus the false positive rate. \n",
    "#The true positive rate (TPR) is (true positives)/(true positives + false negatives). \n",
    "#The false positive rate is the (false positive)/(false positive + true negative). \n",
    "\n",
    "from sklearn.metrics import roc_curve, roc_auc_score\n",
    "y_pred_proba = rfModel.predict_proba(np.array(val_X))[:,1]\n",
    "\n",
    "fpr, tpr, thresholds = roc_curve(val_y, y_pred_proba)\n",
    "\n",
    "sns.set()\n",
    "\n",
    "plt.plot(fpr, tpr)\n",
    "\n",
    "plt.plot(fpr, fpr, linestyle = '--', color = 'k')\n",
    "\n",
    "plt.xlabel('False positive rate')\n",
    "\n",
    "plt.ylabel('True positive rate')\n",
    "\n",
    "AUROC = np.round(roc_auc_score(val_y, y_pred_proba), 2)\n",
    "\n",
    "plt.title(f'Random Forest Classifier Model ROC curve; AUROC: {AUROC}');\n",
    "\n",
    "plt.show()"
   ]
  },
  {
   "cell_type": "code",
   "execution_count": 24,
   "metadata": {},
   "outputs": [
    {
     "data": {
      "image/png": "[encoded data removed]",
      "text/plain": [
       "<Figure size 432x288 with 1 Axes>"
      ]
     },
     "metadata": {},
     "output_type": "display_data"
    }
   ],
   "source": [
    "#AUPRC (Average Precision) \n",
    "from sklearn.metrics import precision_recall_curve\n",
    "\n",
    "from sklearn.metrics import average_precision_score\n",
    "\n",
    "# predict probabilities\n",
    "y_test_proba = rfModel.predict_proba(val_X)\n",
    "# keep probabilities for the positive outcome only\n",
    "y_test_proba = y_test_proba[:, 1]\n",
    "\n",
    "average_precision = average_precision_score(val_y, y_test_proba)\n",
    "\n",
    "precision, recall, thresholds = precision_recall_curve(val_y, y_test_proba)\n",
    "\n",
    "plt.plot(recall, precision, marker='.', label='Random Forest')\n",
    "\n",
    "plt.xlabel('Recall')\n",
    "\n",
    "plt.ylabel('Precision')\n",
    "\n",
    "plt.legend()\n",
    "\n",
    "plt.title(f'Precision Recall Curve. AUPRC: {average_precision}')\n",
    "\n",
    "plt.show()"
   ]
  },
  {
   "cell_type": "code",
   "execution_count": 25,
   "metadata": {},
   "outputs": [
    {
     "data": {
      "text/html": [
       "<div>\n",
       "<style scoped>\n",
       "    .dataframe tbody tr th:only-of-type {\n",
       "        vertical-align: middle;\n",
       "    }\n",
       "\n",
       "    .dataframe tbody tr th {\n",
       "        vertical-align: top;\n",
       "    }\n",
       "\n",
       "    .dataframe thead th {\n",
       "        text-align: right;\n",
       "    }\n",
       "</style>\n",
       "<table border=\"1\" class=\"dataframe\">\n",
       "  <thead>\n",
       "    <tr style=\"text-align: right;\">\n",
       "      <th></th>\n",
       "      <th>test1</th>\n",
       "      <th>test2</th>\n",
       "      <th>test3</th>\n",
       "      <th>test4</th>\n",
       "      <th>test5</th>\n",
       "      <th>test6</th>\n",
       "      <th>test7</th>\n",
       "      <th>test8</th>\n",
       "      <th>test9</th>\n",
       "      <th>test10</th>\n",
       "    </tr>\n",
       "  </thead>\n",
       "  <tbody>\n",
       "    <tr>\n",
       "      <th>175</th>\n",
       "      <td>-0.472887</td>\n",
       "      <td>1.009159</td>\n",
       "      <td>-0.758803</td>\n",
       "      <td>-2.278993</td>\n",
       "      <td>0.925334</td>\n",
       "      <td>-0.025950</td>\n",
       "      <td>-0.579410</td>\n",
       "      <td>0.597684</td>\n",
       "      <td>0.560546</td>\n",
       "      <td>-0.140218</td>\n",
       "    </tr>\n",
       "    <tr>\n",
       "      <th>239</th>\n",
       "      <td>-0.667707</td>\n",
       "      <td>1.395020</td>\n",
       "      <td>-0.198014</td>\n",
       "      <td>-1.966001</td>\n",
       "      <td>-0.143060</td>\n",
       "      <td>-0.340332</td>\n",
       "      <td>-0.642543</td>\n",
       "      <td>-0.150725</td>\n",
       "      <td>0.467857</td>\n",
       "      <td>0.380984</td>\n",
       "    </tr>\n",
       "    <tr>\n",
       "      <th>60</th>\n",
       "      <td>-1.561277</td>\n",
       "      <td>1.443846</td>\n",
       "      <td>-1.069030</td>\n",
       "      <td>6.332199</td>\n",
       "      <td>0.938644</td>\n",
       "      <td>3.970570</td>\n",
       "      <td>-2.293661</td>\n",
       "      <td>1.412172</td>\n",
       "      <td>-0.813873</td>\n",
       "      <td>2.669194</td>\n",
       "    </tr>\n",
       "    <tr>\n",
       "      <th>231</th>\n",
       "      <td>-0.188297</td>\n",
       "      <td>2.104872</td>\n",
       "      <td>0.445987</td>\n",
       "      <td>-0.900080</td>\n",
       "      <td>-0.624134</td>\n",
       "      <td>-0.273670</td>\n",
       "      <td>1.019223</td>\n",
       "      <td>-0.380754</td>\n",
       "      <td>-0.078642</td>\n",
       "      <td>-0.405854</td>\n",
       "    </tr>\n",
       "    <tr>\n",
       "      <th>134</th>\n",
       "      <td>-0.277616</td>\n",
       "      <td>2.991500</td>\n",
       "      <td>-0.659003</td>\n",
       "      <td>1.767599</td>\n",
       "      <td>-0.416841</td>\n",
       "      <td>3.053098</td>\n",
       "      <td>-0.291933</td>\n",
       "      <td>1.398862</td>\n",
       "      <td>-0.882476</td>\n",
       "      <td>0.832709</td>\n",
       "    </tr>\n",
       "    <tr>\n",
       "      <th>...</th>\n",
       "      <td>...</td>\n",
       "      <td>...</td>\n",
       "      <td>...</td>\n",
       "      <td>...</td>\n",
       "      <td>...</td>\n",
       "      <td>...</td>\n",
       "      <td>...</td>\n",
       "      <td>...</td>\n",
       "      <td>...</td>\n",
       "      <td>...</td>\n",
       "    </tr>\n",
       "    <tr>\n",
       "      <th>356</th>\n",
       "      <td>3.908788</td>\n",
       "      <td>-0.575508</td>\n",
       "      <td>-0.417204</td>\n",
       "      <td>-0.905351</td>\n",
       "      <td>-1.929684</td>\n",
       "      <td>0.817252</td>\n",
       "      <td>-0.316798</td>\n",
       "      <td>0.225620</td>\n",
       "      <td>0.327084</td>\n",
       "      <td>0.348271</td>\n",
       "    </tr>\n",
       "    <tr>\n",
       "      <th>56</th>\n",
       "      <td>0.893772</td>\n",
       "      <td>1.048073</td>\n",
       "      <td>-1.118180</td>\n",
       "      <td>-1.242314</td>\n",
       "      <td>-0.747615</td>\n",
       "      <td>-0.340883</td>\n",
       "      <td>-0.883246</td>\n",
       "      <td>0.296168</td>\n",
       "      <td>0.522375</td>\n",
       "      <td>0.073232</td>\n",
       "    </tr>\n",
       "    <tr>\n",
       "      <th>8</th>\n",
       "      <td>0.727005</td>\n",
       "      <td>-1.515827</td>\n",
       "      <td>-0.189692</td>\n",
       "      <td>-0.275151</td>\n",
       "      <td>0.802623</td>\n",
       "      <td>1.576829</td>\n",
       "      <td>0.115491</td>\n",
       "      <td>0.375821</td>\n",
       "      <td>0.469071</td>\n",
       "      <td>-2.304945</td>\n",
       "    </tr>\n",
       "    <tr>\n",
       "      <th>194</th>\n",
       "      <td>0.075406</td>\n",
       "      <td>0.459722</td>\n",
       "      <td>-0.110214</td>\n",
       "      <td>1.466135</td>\n",
       "      <td>-1.372231</td>\n",
       "      <td>-0.035377</td>\n",
       "      <td>0.634384</td>\n",
       "      <td>-2.012426</td>\n",
       "      <td>0.482297</td>\n",
       "      <td>0.257330</td>\n",
       "    </tr>\n",
       "    <tr>\n",
       "      <th>402</th>\n",
       "      <td>1.435844</td>\n",
       "      <td>2.109855</td>\n",
       "      <td>0.930709</td>\n",
       "      <td>0.101205</td>\n",
       "      <td>-0.630253</td>\n",
       "      <td>-0.771398</td>\n",
       "      <td>0.880590</td>\n",
       "      <td>-0.735573</td>\n",
       "      <td>-0.733036</td>\n",
       "      <td>-0.693924</td>\n",
       "    </tr>\n",
       "  </tbody>\n",
       "</table>\n",
       "<p>102 rows × 10 columns</p>\n",
       "</div>"
      ],
      "text/plain": [
       "        test1     test2     test3     test4     test5     test6     test7  \\\n",
       "175 -0.472887  1.009159 -0.758803 -2.278993  0.925334 -0.025950 -0.579410   \n",
       "239 -0.667707  1.395020 -0.198014 -1.966001 -0.143060 -0.340332 -0.642543   \n",
       "60  -1.561277  1.443846 -1.069030  6.332199  0.938644  3.970570 -2.293661   \n",
       "231 -0.188297  2.104872  0.445987 -0.900080 -0.624134 -0.273670  1.019223   \n",
       "134 -0.277616  2.991500 -0.659003  1.767599 -0.416841  3.053098 -0.291933   \n",
       "..        ...       ...       ...       ...       ...       ...       ...   \n",
       "356  3.908788 -0.575508 -0.417204 -0.905351 -1.929684  0.817252 -0.316798   \n",
       "56   0.893772  1.048073 -1.118180 -1.242314 -0.747615 -0.340883 -0.883246   \n",
       "8    0.727005 -1.515827 -0.189692 -0.275151  0.802623  1.576829  0.115491   \n",
       "194  0.075406  0.459722 -0.110214  1.466135 -1.372231 -0.035377  0.634384   \n",
       "402  1.435844  2.109855  0.930709  0.101205 -0.630253 -0.771398  0.880590   \n",
       "\n",
       "        test8     test9    test10  \n",
       "175  0.597684  0.560546 -0.140218  \n",
       "239 -0.150725  0.467857  0.380984  \n",
       "60   1.412172 -0.813873  2.669194  \n",
       "231 -0.380754 -0.078642 -0.405854  \n",
       "134  1.398862 -0.882476  0.832709  \n",
       "..        ...       ...       ...  \n",
       "356  0.225620  0.327084  0.348271  \n",
       "56   0.296168  0.522375  0.073232  \n",
       "8    0.375821  0.469071 -2.304945  \n",
       "194 -2.012426  0.482297  0.257330  \n",
       "402 -0.735573 -0.733036 -0.693924  \n",
       "\n",
       "[102 rows x 10 columns]"
      ]
     },
     "execution_count": 25,
     "metadata": {},
     "output_type": "execute_result"
    }
   ],
   "source": [
    "val_X"
   ]
  },
  {
   "cell_type": "code",
   "execution_count": 26,
   "metadata": {},
   "outputs": [
    {
     "data": {
      "text/plain": [
       "86"
      ]
     },
     "execution_count": 26,
     "metadata": {},
     "output_type": "execute_result"
    }
   ],
   "source": [
    "# Decesion Tree\n",
    "from sklearn.tree import DecisionTreeRegressor\n",
    "\n",
    "model = DecisionTreeRegressor(random_state=3)\n",
    "model.fit(train_X, train_y)\n",
    "val_predictions = model.predict(val_X)\n",
    "# print(mean_absolute_error(val_y, val_predictions))\n",
    "accuracy2 = accuracy_score(val_y, val_predictions.round(), normalize=False)\n",
    "accuracy2 # 0.737"
   ]
  },
  {
   "cell_type": "code",
   "execution_count": 27,
   "metadata": {},
   "outputs": [
    {
     "data": {
      "text/plain": [
       "0.9411764705882353"
      ]
     },
     "execution_count": 27,
     "metadata": {},
     "output_type": "execute_result"
    }
   ],
   "source": [
    "# Gradient boosting\n",
    "from sklearn.ensemble import GradientBoostingClassifier\n",
    "from sklearn import metrics\n",
    "gbModel = GradientBoostingClassifier()\n",
    "gbModel.fit(train_X, train_y)\n",
    "gbPrediction = gbModel.predict(val_X)\n",
    "# print(mean_absolute_error(val_y, lrPrediction))\n",
    "\n",
    "accuracy3 = metrics.accuracy_score(val_y, gbPrediction)\n",
    "accuracy3 # 0.738"
   ]
  },
  {
   "cell_type": "code",
   "execution_count": 28,
   "metadata": {},
   "outputs": [
    {
     "data": {
      "text/plain": [
       "0.9019607843137255"
      ]
     },
     "execution_count": 28,
     "metadata": {},
     "output_type": "execute_result"
    }
   ],
   "source": [
    "# Linear Regression\n",
    "from sklearn.linear_model import LinearRegression\n",
    "from sklearn import metrics\n",
    "lrModel = LinearRegression()\n",
    "lrModel.fit(train_X, train_y)\n",
    "lrPrediction = lrModel.predict(val_X)\n",
    "lrPrediction = np.around(lrPrediction) # Regression array to classification array \n",
    "lrPrediction = lrPrediction.astype(int) # float to int\n",
    "# print(mean_absolute_error(val_y, lrPrediction))\n",
    "\n",
    "accuracy4 = metrics.accuracy_score(val_y, lrPrediction)\n",
    "accuracy4 # 0.730"
   ]
  },
  {
   "cell_type": "code",
   "execution_count": 68,
   "metadata": {},
   "outputs": [],
   "source": [
    "import pandas as pd\n",
    "import numpy as np"
   ]
  },
  {
   "cell_type": "code",
   "execution_count": 102,
   "metadata": {},
   "outputs": [],
   "source": [
    "#df = pd.read_csv('Reduced_ctgan_result_oversampling_final_Six_Col.csv')"
   ]
  },
  {
   "cell_type": "code",
   "execution_count": 29,
   "metadata": {},
   "outputs": [],
   "source": [
    "#features = ['test1','test2','test3','test4','test5','test6']\n",
    "X = df[features]\n",
    "Y = df.DEATH_EVENT"
   ]
  },
  {
   "cell_type": "code",
   "execution_count": 30,
   "metadata": {},
   "outputs": [
    {
     "name": "stdout",
     "output_type": "stream",
     "text": [
      "Num of rows in the training dataset 304\n",
      "Num of rows in the test dataset 102\n"
     ]
    }
   ],
   "source": [
    "from sklearn.model_selection import train_test_split\n",
    "train_X, val_X, train_y, val_y = train_test_split(X, Y, test_size=0.25,random_state = 0)\n",
    "from sklearn.metrics import mean_absolute_error\n",
    "from sklearn.metrics import accuracy_score\n",
    "#Number of rows in the training dataset\n",
    "print(\"Num of rows in the training dataset\",len(train_X))\n",
    "#Number of rows in the test dataset\n",
    "print(\"Num of rows in the test dataset\",len(val_X))"
   ]
  },
  {
   "cell_type": "code",
   "execution_count": 31,
   "metadata": {},
   "outputs": [
    {
     "data": {
      "text/plain": [
       "0.9117647058823529"
      ]
     },
     "execution_count": 31,
     "metadata": {},
     "output_type": "execute_result"
    }
   ],
   "source": [
    "# Logistic Regression\n",
    "from sklearn.linear_model import LogisticRegression\n",
    "from sklearn import metrics\n",
    "lrModel = LogisticRegression()\n",
    "lrModel.fit(train_X, train_y)\n",
    "lrPrediction = lrModel.predict(val_X)\n",
    "lrPrediction = np.around(lrPrediction) # Regression array to classification array \n",
    "lrPrediction = lrPrediction.astype(int) # float to int\n",
    "# print(mean_absolute_error(val_y, lrPrediction))\n",
    "\n",
    "accuracy4 = metrics.accuracy_score(val_y, lrPrediction)\n",
    "accuracy4 # 0.730"
   ]
  },
  {
   "cell_type": "code",
   "execution_count": 32,
   "metadata": {},
   "outputs": [
    {
     "data": {
      "text/plain": [
       "(array([203.,   0.,   0.,   0.,   0.,   0.,   0.,   0.,   0., 203.]),\n",
       " array([0. , 0.1, 0.2, 0.3, 0.4, 0.5, 0.6, 0.7, 0.8, 0.9, 1. ]),\n",
       " <BarContainer object of 10 artists>)"
      ]
     },
     "execution_count": 32,
     "metadata": {},
     "output_type": "execute_result"
    },
    {
     "data": {
      "image/png": "[encoded data removed]",
      "text/plain": [
       "<Figure size 432x288 with 1 Axes>"
      ]
     },
     "metadata": {},
     "output_type": "display_data"
    }
   ],
   "source": [
    "import matplotlib.pyplot as plt\n",
    "plt.hist(Y)"
   ]
  },
  {
   "cell_type": "code",
   "execution_count": null,
   "metadata": {},
   "outputs": [],
   "source": []
  }
 ],
 "metadata": {
  "interpreter": {
   "hash": "2be5faf79681da6f2a61fdfdd5405d65d042280f7fba6178067603e3a2925119"
  },
  "kernelspec": {
   "display_name": "Python 3 (ipykernel)",
   "language": "python",
   "name": "python3"
  },
  "language_info": {
   "codemirror_mode": {
    "name": "ipython",
    "version": 3
   },
   "file_extension": ".py",
   "mimetype": "text/x-python",
   "name": "python",
   "nbconvert_exporter": "python",
   "pygments_lexer": "ipython3",
   "version": "3.8.11"
  }
 },
 "nbformat": 4,
 "nbformat_minor": 2
}
